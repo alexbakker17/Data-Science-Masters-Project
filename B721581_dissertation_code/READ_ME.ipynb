{
 "cells": [
  {
   "cell_type": "markdown",
   "id": "e0946af9-3f6f-40ed-bee0-c6a5976c80a2",
   "metadata": {},
   "source": [
    "# Read Me\n",
    "\n",
    "This is a short read me file with some important info about the Python Notebooks for this MSc thesis.\n",
    "\n",
    "Student ID: B721581\n",
    "\n",
    "- The files must be executed in the following order:\n",
    "    1. EDA\n",
    "    2. Preprocessing\n",
    "    3. LSTM_Model\n",
    "    \n",
    "* Some of the code will not work as it was made to work for my local computer drive. Therefore it needs editing to run on another machine.\n",
    "* The LSTM_Model file was edited to train each relevant model for the thesis."
   ]
  }
 ],
 "metadata": {
  "kernelspec": {
   "display_name": "Python 3 (ipykernel)",
   "language": "python",
   "name": "python3"
  },
  "language_info": {
   "codemirror_mode": {
    "name": "ipython",
    "version": 3
   },
   "file_extension": ".py",
   "mimetype": "text/x-python",
   "name": "python",
   "nbconvert_exporter": "python",
   "pygments_lexer": "ipython3",
   "version": "3.9.13"
  }
 },
 "nbformat": 4,
 "nbformat_minor": 5
}
